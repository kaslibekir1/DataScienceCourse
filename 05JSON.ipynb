{
 "cells": [
  {
   "cell_type": "code",
   "execution_count": 26,
   "id": "ef29682e-5771-4da2-b0e3-e17d35f2838a",
   "metadata": {},
   "outputs": [],
   "source": [
    "import pandas as pd\n",
    "import json"
   ]
  },
  {
   "cell_type": "markdown",
   "id": "cc046659-4b6c-47e6-a540-114248d55703",
   "metadata": {},
   "source": [
    "Führen Sie vor der Bearbeitung der Übung folgende Punkte durch:\n",
    "\n",
    "Öffen Sie einen Texteditor Ihrer Wahl\n",
    "Überführen Sie die Bookstore xml-Datei in eine Json-Datei (2 Zeilen reichen)\n",
    "Speichern Sie die Datei im selben Ordner wie dieses Übungsnotebook"
   ]
  },
  {
   "cell_type": "markdown",
   "id": "dc1dc17c-264c-4704-807b-8310227f3282",
   "metadata": {},
   "source": [
    "Lesen Sie nun die JSON-Datei ein. Sie müssen vorher den Pfad ändern!"
   ]
  },
  {
   "cell_type": "code",
   "execution_count": 27,
   "id": "742be48b-9d2e-4518-9307-19e5ca8566e1",
   "metadata": {},
   "outputs": [],
   "source": [
    "f = open(\"../DataScienceDataSets/bookstore.json\")\n",
    "\n",
    "data = json.load(f)\n",
    "\n",
    "f.close()"
   ]
  },
  {
   "cell_type": "markdown",
   "id": "7f7d53fd-958e-4e98-8c8b-cc54c294eb1c",
   "metadata": {},
   "source": [
    "Wandeln Sie nun die Daten in ein pandas-Dataframe um, nutzen Sie hierfür die Methode pd.DataFrame()"
   ]
  },
  {
   "cell_type": "code",
   "execution_count": 28,
   "id": "a635277f-0a1b-4900-9419-caaa9f66470a",
   "metadata": {},
   "outputs": [
    {
     "data": {
      "text/plain": [
       "{'bookstore': [{'title': 'Die Zwerge',\n",
       "   'author': 'Markus Heitz',\n",
       "   'year': '2003',\n",
       "   'price': 20,\n",
       "   'category': 'fantasy',\n",
       "   'lang': 'de'},\n",
       "  {'title': 'ML mit Python',\n",
       "   'author': 'Geron Aurelien',\n",
       "   'year': '2019',\n",
       "   'price': 20,\n",
       "   'category': 'fantasy',\n",
       "   'lang': 'de'}]}"
      ]
     },
     "execution_count": 28,
     "metadata": {},
     "output_type": "execute_result"
    }
   ],
   "source": [
    "data"
   ]
  },
  {
   "cell_type": "code",
   "execution_count": 29,
   "id": "69324089-ba5a-4645-8f7b-9b98c370d21a",
   "metadata": {},
   "outputs": [],
   "source": [
    "df = pd.DataFrame(data[\"bookstore\"])"
   ]
  },
  {
   "cell_type": "code",
   "execution_count": 30,
   "id": "e06cf681-7f3a-4c4f-98fb-4dd497731b71",
   "metadata": {},
   "outputs": [
    {
     "data": {
      "text/html": [
       "<div>\n",
       "<style scoped>\n",
       "    .dataframe tbody tr th:only-of-type {\n",
       "        vertical-align: middle;\n",
       "    }\n",
       "\n",
       "    .dataframe tbody tr th {\n",
       "        vertical-align: top;\n",
       "    }\n",
       "\n",
       "    .dataframe thead th {\n",
       "        text-align: right;\n",
       "    }\n",
       "</style>\n",
       "<table border=\"1\" class=\"dataframe\">\n",
       "  <thead>\n",
       "    <tr style=\"text-align: right;\">\n",
       "      <th></th>\n",
       "      <th>title</th>\n",
       "      <th>author</th>\n",
       "      <th>year</th>\n",
       "      <th>price</th>\n",
       "      <th>category</th>\n",
       "      <th>lang</th>\n",
       "    </tr>\n",
       "  </thead>\n",
       "  <tbody>\n",
       "    <tr>\n",
       "      <th>0</th>\n",
       "      <td>Die Zwerge</td>\n",
       "      <td>Markus Heitz</td>\n",
       "      <td>2003</td>\n",
       "      <td>20</td>\n",
       "      <td>fantasy</td>\n",
       "      <td>de</td>\n",
       "    </tr>\n",
       "    <tr>\n",
       "      <th>1</th>\n",
       "      <td>ML mit Python</td>\n",
       "      <td>Geron Aurelien</td>\n",
       "      <td>2019</td>\n",
       "      <td>20</td>\n",
       "      <td>fantasy</td>\n",
       "      <td>de</td>\n",
       "    </tr>\n",
       "  </tbody>\n",
       "</table>\n",
       "</div>"
      ],
      "text/plain": [
       "           title          author  year  price category lang\n",
       "0     Die Zwerge    Markus Heitz  2003     20  fantasy   de\n",
       "1  ML mit Python  Geron Aurelien  2019     20  fantasy   de"
      ]
     },
     "execution_count": 30,
     "metadata": {},
     "output_type": "execute_result"
    }
   ],
   "source": [
    "df"
   ]
  },
  {
   "cell_type": "markdown",
   "id": "61d3c7e1-daf3-49bb-80c5-eaa65948935c",
   "metadata": {},
   "source": [
    "Fügen Sie einen neuen Datenpunkt ein. Sie können hierfür den Code aus der XML-Vorschau benutzen. Benutzen Sie hierfür die Methode pd.Series() und pd.concat()"
   ]
  },
  {
   "cell_type": "code",
   "execution_count": 31,
   "id": "2488a2da-203b-43b9-9001-32d6ea847ac8",
   "metadata": {},
   "outputs": [
    {
     "data": {
      "text/plain": [
       "category           fantasy\n",
       "title        Die Gefährten\n",
       "author      J.R.R. Tolkien\n",
       "year                  2012\n",
       "price                   20\n",
       "lang                    de\n",
       "cover                 None\n",
       "dtype: object"
      ]
     },
     "execution_count": 31,
     "metadata": {},
     "output_type": "execute_result"
    }
   ],
   "source": [
    "new_data = pd.Series({\"category\": \"fantasy\", \"title\": \"Die Gefährten\",\"author\": \"J.R.R. Tolkien\", \"year\": 2012, \"price\": 20, \"lang\": \"de\", \"cover\": None})\n",
    "new_data"
   ]
  },
  {
   "cell_type": "code",
   "execution_count": 34,
   "id": "bbac1f47-a41e-4dd9-af94-4acf8a2d0359",
   "metadata": {},
   "outputs": [
    {
     "data": {
      "text/html": [
       "<div>\n",
       "<style scoped>\n",
       "    .dataframe tbody tr th:only-of-type {\n",
       "        vertical-align: middle;\n",
       "    }\n",
       "\n",
       "    .dataframe tbody tr th {\n",
       "        vertical-align: top;\n",
       "    }\n",
       "\n",
       "    .dataframe thead th {\n",
       "        text-align: right;\n",
       "    }\n",
       "</style>\n",
       "<table border=\"1\" class=\"dataframe\">\n",
       "  <thead>\n",
       "    <tr style=\"text-align: right;\">\n",
       "      <th></th>\n",
       "      <th>title</th>\n",
       "      <th>author</th>\n",
       "      <th>year</th>\n",
       "      <th>price</th>\n",
       "      <th>category</th>\n",
       "      <th>lang</th>\n",
       "      <th>cover</th>\n",
       "    </tr>\n",
       "  </thead>\n",
       "  <tbody>\n",
       "    <tr>\n",
       "      <th>0</th>\n",
       "      <td>Die Zwerge</td>\n",
       "      <td>Markus Heitz</td>\n",
       "      <td>2003</td>\n",
       "      <td>20</td>\n",
       "      <td>fantasy</td>\n",
       "      <td>de</td>\n",
       "      <td>NaN</td>\n",
       "    </tr>\n",
       "    <tr>\n",
       "      <th>1</th>\n",
       "      <td>ML mit Python</td>\n",
       "      <td>Geron Aurelien</td>\n",
       "      <td>2019</td>\n",
       "      <td>20</td>\n",
       "      <td>fantasy</td>\n",
       "      <td>de</td>\n",
       "      <td>NaN</td>\n",
       "    </tr>\n",
       "    <tr>\n",
       "      <th>2</th>\n",
       "      <td>Die Gefährten</td>\n",
       "      <td>J.R.R. Tolkien</td>\n",
       "      <td>2012</td>\n",
       "      <td>20</td>\n",
       "      <td>fantasy</td>\n",
       "      <td>de</td>\n",
       "      <td>None</td>\n",
       "    </tr>\n",
       "  </tbody>\n",
       "</table>\n",
       "</div>"
      ],
      "text/plain": [
       "           title          author  year price category lang cover\n",
       "0     Die Zwerge    Markus Heitz  2003    20  fantasy   de   NaN\n",
       "1  ML mit Python  Geron Aurelien  2019    20  fantasy   de   NaN\n",
       "2  Die Gefährten  J.R.R. Tolkien  2012    20  fantasy   de  None"
      ]
     },
     "execution_count": 34,
     "metadata": {},
     "output_type": "execute_result"
    }
   ],
   "source": [
    "new_df = pd.concat([df,new_data.to_frame().T], ignore_index = True)\n",
    "new_df"
   ]
  },
  {
   "cell_type": "markdown",
   "id": "1f01acb7-df7c-4650-8e3f-7e82ba6e16b7",
   "metadata": {},
   "source": [
    "Speichern Sie nun die neue Datei als JSON-Datei in einem beliebigen Pfad ab. Benutzen Sie hierfür die Methode DataFrame.to_json()\n",
    "\n"
   ]
  },
  {
   "cell_type": "code",
   "execution_count": 35,
   "id": "0f860ef9-d788-4c8f-a07b-1297cee10abb",
   "metadata": {},
   "outputs": [],
   "source": [
    "new_df.to_json(\"../DataScienceDataSets/new_df.json\")"
   ]
  },
  {
   "cell_type": "code",
   "execution_count": null,
   "id": "1423dd8d-3531-4c52-9dc0-050dadcd0f41",
   "metadata": {},
   "outputs": [],
   "source": []
  }
 ],
 "metadata": {
  "kernelspec": {
   "display_name": "Python 3 (ipykernel)",
   "language": "python",
   "name": "python3"
  },
  "language_info": {
   "codemirror_mode": {
    "name": "ipython",
    "version": 3
   },
   "file_extension": ".py",
   "mimetype": "text/x-python",
   "name": "python",
   "nbconvert_exporter": "python",
   "pygments_lexer": "ipython3",
   "version": "3.11.5"
  }
 },
 "nbformat": 4,
 "nbformat_minor": 5
}
