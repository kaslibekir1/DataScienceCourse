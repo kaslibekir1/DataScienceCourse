{
 "cells": [
  {
   "cell_type": "code",
   "execution_count": 4,
   "id": "91b70649-76dc-4827-a138-6fa59fb0eb76",
   "metadata": {},
   "outputs": [],
   "source": [
    "import pandas as pd"
   ]
  },
  {
   "cell_type": "code",
   "execution_count": 5,
   "id": "26958f5c-de83-4764-a1c1-f70a78c538ce",
   "metadata": {},
   "outputs": [],
   "source": [
    "pfad = \"../DataScienceDataSets/bookstore.xml\""
   ]
  },
  {
   "cell_type": "markdown",
   "id": "76052e11-d33a-45c0-9f14-a9b17779baeb",
   "metadata": {},
   "source": [
    "Um XML-Files mit Pyhton einzulesen kann ebenfalls pandas benutzt werden. Das Package bietet dafür die Methode \"read_xml\" an. In dieser kann eine XPath expression definiert werden um das Dataset optimal einzulesen. Passe in den folgenden Aufgaben die XPath expression an die jeweilige Aufgabenstellung an.\n",
    "\n",
    "Lese alle Bücher aus dem Dataset ein"
   ]
  },
  {
   "cell_type": "code",
   "execution_count": 7,
   "id": "e0274b66-129b-402e-9456-ba5d04623fb7",
   "metadata": {},
   "outputs": [
    {
     "data": {
      "text/html": [
       "<div>\n",
       "<style scoped>\n",
       "    .dataframe tbody tr th:only-of-type {\n",
       "        vertical-align: middle;\n",
       "    }\n",
       "\n",
       "    .dataframe tbody tr th {\n",
       "        vertical-align: top;\n",
       "    }\n",
       "\n",
       "    .dataframe thead th {\n",
       "        text-align: right;\n",
       "    }\n",
       "</style>\n",
       "<table border=\"1\" class=\"dataframe\">\n",
       "  <thead>\n",
       "    <tr style=\"text-align: right;\">\n",
       "      <th></th>\n",
       "      <th>category</th>\n",
       "      <th>title</th>\n",
       "      <th>author</th>\n",
       "      <th>year</th>\n",
       "      <th>price</th>\n",
       "      <th>cover</th>\n",
       "    </tr>\n",
       "  </thead>\n",
       "  <tbody>\n",
       "    <tr>\n",
       "      <th>0</th>\n",
       "      <td>cooking</td>\n",
       "      <td>Everyday Italian</td>\n",
       "      <td>Giada De Laurentiis</td>\n",
       "      <td>2005</td>\n",
       "      <td>30.00</td>\n",
       "      <td>None</td>\n",
       "    </tr>\n",
       "    <tr>\n",
       "      <th>1</th>\n",
       "      <td>fantasy</td>\n",
       "      <td>Die Zwerge</td>\n",
       "      <td>Markus Heitz</td>\n",
       "      <td>2003</td>\n",
       "      <td>14.00</td>\n",
       "      <td>None</td>\n",
       "    </tr>\n",
       "    <tr>\n",
       "      <th>2</th>\n",
       "      <td>machine learning</td>\n",
       "      <td>Hands-On Machine Learning</td>\n",
       "      <td>Geron Aurelien</td>\n",
       "      <td>2019</td>\n",
       "      <td>65.00</td>\n",
       "      <td>None</td>\n",
       "    </tr>\n",
       "    <tr>\n",
       "      <th>3</th>\n",
       "      <td>children</td>\n",
       "      <td>Harry Potter</td>\n",
       "      <td>J K. Rowling</td>\n",
       "      <td>2005</td>\n",
       "      <td>29.99</td>\n",
       "      <td>None</td>\n",
       "    </tr>\n",
       "    <tr>\n",
       "      <th>4</th>\n",
       "      <td>web</td>\n",
       "      <td>XQuery Kick Start</td>\n",
       "      <td>Vaidyanathan Nagarajan</td>\n",
       "      <td>2003</td>\n",
       "      <td>49.99</td>\n",
       "      <td>None</td>\n",
       "    </tr>\n",
       "    <tr>\n",
       "      <th>5</th>\n",
       "      <td>web</td>\n",
       "      <td>Learning XML</td>\n",
       "      <td>Erik T. Ray</td>\n",
       "      <td>2003</td>\n",
       "      <td>39.95</td>\n",
       "      <td>paperback</td>\n",
       "    </tr>\n",
       "  </tbody>\n",
       "</table>\n",
       "</div>"
      ],
      "text/plain": [
       "           category                      title                  author  year  \\\n",
       "0           cooking           Everyday Italian     Giada De Laurentiis  2005   \n",
       "1           fantasy                 Die Zwerge            Markus Heitz  2003   \n",
       "2  machine learning  Hands-On Machine Learning          Geron Aurelien  2019   \n",
       "3          children               Harry Potter            J K. Rowling  2005   \n",
       "4               web          XQuery Kick Start  Vaidyanathan Nagarajan  2003   \n",
       "5               web               Learning XML             Erik T. Ray  2003   \n",
       "\n",
       "   price      cover  \n",
       "0  30.00       None  \n",
       "1  14.00       None  \n",
       "2  65.00       None  \n",
       "3  29.99       None  \n",
       "4  49.99       None  \n",
       "5  39.95  paperback  "
      ]
     },
     "execution_count": 7,
     "metadata": {},
     "output_type": "execute_result"
    }
   ],
   "source": [
    "pd.read_xml(pfad, xpath =\"//book\")"
   ]
  },
  {
   "cell_type": "markdown",
   "id": "12a129fb-c897-4f09-84d8-e557ec6b6969",
   "metadata": {},
   "source": [
    "Lese nur Bücher mit der Kategorie \"web\" ein"
   ]
  },
  {
   "cell_type": "code",
   "execution_count": 10,
   "id": "ca4dde54-f097-4f47-80b7-d6ec41d0197b",
   "metadata": {},
   "outputs": [
    {
     "data": {
      "text/html": [
       "<div>\n",
       "<style scoped>\n",
       "    .dataframe tbody tr th:only-of-type {\n",
       "        vertical-align: middle;\n",
       "    }\n",
       "\n",
       "    .dataframe tbody tr th {\n",
       "        vertical-align: top;\n",
       "    }\n",
       "\n",
       "    .dataframe thead th {\n",
       "        text-align: right;\n",
       "    }\n",
       "</style>\n",
       "<table border=\"1\" class=\"dataframe\">\n",
       "  <thead>\n",
       "    <tr style=\"text-align: right;\">\n",
       "      <th></th>\n",
       "      <th>category</th>\n",
       "      <th>title</th>\n",
       "      <th>author</th>\n",
       "      <th>year</th>\n",
       "      <th>price</th>\n",
       "      <th>cover</th>\n",
       "    </tr>\n",
       "  </thead>\n",
       "  <tbody>\n",
       "    <tr>\n",
       "      <th>0</th>\n",
       "      <td>web</td>\n",
       "      <td>XQuery Kick Start</td>\n",
       "      <td>Vaidyanathan Nagarajan</td>\n",
       "      <td>2003</td>\n",
       "      <td>49.99</td>\n",
       "      <td>None</td>\n",
       "    </tr>\n",
       "    <tr>\n",
       "      <th>1</th>\n",
       "      <td>web</td>\n",
       "      <td>Learning XML</td>\n",
       "      <td>Erik T. Ray</td>\n",
       "      <td>2003</td>\n",
       "      <td>39.95</td>\n",
       "      <td>paperback</td>\n",
       "    </tr>\n",
       "  </tbody>\n",
       "</table>\n",
       "</div>"
      ],
      "text/plain": [
       "  category              title                  author  year  price      cover\n",
       "0      web  XQuery Kick Start  Vaidyanathan Nagarajan  2003  49.99       None\n",
       "1      web       Learning XML             Erik T. Ray  2003  39.95  paperback"
      ]
     },
     "execution_count": 10,
     "metadata": {},
     "output_type": "execute_result"
    }
   ],
   "source": [
    "pd.read_xml(pfad, xpath =\"book[@category='web']\")"
   ]
  },
  {
   "cell_type": "markdown",
   "id": "d72f42b5-96d7-40af-94f0-adf3301b943a",
   "metadata": {},
   "source": [
    "Lese nur das vorletzte Buch ein"
   ]
  },
  {
   "cell_type": "code",
   "execution_count": 11,
   "id": "fe24a4ac-23bc-4699-af75-e1b9de35edf1",
   "metadata": {},
   "outputs": [
    {
     "data": {
      "text/html": [
       "<div>\n",
       "<style scoped>\n",
       "    .dataframe tbody tr th:only-of-type {\n",
       "        vertical-align: middle;\n",
       "    }\n",
       "\n",
       "    .dataframe tbody tr th {\n",
       "        vertical-align: top;\n",
       "    }\n",
       "\n",
       "    .dataframe thead th {\n",
       "        text-align: right;\n",
       "    }\n",
       "</style>\n",
       "<table border=\"1\" class=\"dataframe\">\n",
       "  <thead>\n",
       "    <tr style=\"text-align: right;\">\n",
       "      <th></th>\n",
       "      <th>category</th>\n",
       "      <th>title</th>\n",
       "      <th>author</th>\n",
       "      <th>year</th>\n",
       "      <th>price</th>\n",
       "    </tr>\n",
       "  </thead>\n",
       "  <tbody>\n",
       "    <tr>\n",
       "      <th>0</th>\n",
       "      <td>web</td>\n",
       "      <td>XQuery Kick Start</td>\n",
       "      <td>Vaidyanathan Nagarajan</td>\n",
       "      <td>2003</td>\n",
       "      <td>49.99</td>\n",
       "    </tr>\n",
       "  </tbody>\n",
       "</table>\n",
       "</div>"
      ],
      "text/plain": [
       "  category              title                  author  year  price\n",
       "0      web  XQuery Kick Start  Vaidyanathan Nagarajan  2003  49.99"
      ]
     },
     "execution_count": 11,
     "metadata": {},
     "output_type": "execute_result"
    }
   ],
   "source": [
    "pd.read_xml(pfad, xpath =\"/bookstore/book[last()-1]\")"
   ]
  },
  {
   "cell_type": "code",
   "execution_count": null,
   "id": "3715aa06-e885-4178-a17a-c92c51ecde66",
   "metadata": {},
   "outputs": [],
   "source": []
  }
 ],
 "metadata": {
  "kernelspec": {
   "display_name": "Python 3 (ipykernel)",
   "language": "python",
   "name": "python3"
  },
  "language_info": {
   "codemirror_mode": {
    "name": "ipython",
    "version": 3
   },
   "file_extension": ".py",
   "mimetype": "text/x-python",
   "name": "python",
   "nbconvert_exporter": "python",
   "pygments_lexer": "ipython3",
   "version": "3.11.5"
  }
 },
 "nbformat": 4,
 "nbformat_minor": 5
}
