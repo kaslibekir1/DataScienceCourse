{
 "cells": [
  {
   "cell_type": "markdown",
   "id": "0adb0e2c-677d-45f6-b4ab-fc340f907ce3",
   "metadata": {},
   "source": [
    "# Use Case Vorhersage von Sales Daten mithilfe Linearer Regression\n"
   ]
  },
  {
   "cell_type": "markdown",
   "id": "04ca075c-32c9-4d96-b7dc-b44f62070321",
   "metadata": {},
   "source": [
    "Falls wir keine kategorischen sondern metrisch skalierten Werte (numerisch) vorhersagen wollen, müssen wir eine Regression anwenden. Eine einfache Methode dies zu tun ist eine sogenannte Lineare Regression."
   ]
  },
  {
   "cell_type": "code",
   "execution_count": 3,
   "id": "160fe0a3-5634-4155-b868-650bf7ee0a24",
   "metadata": {},
   "outputs": [],
   "source": [
    "#imports \n",
    "import pandas as pd\n",
    "import plotly.express as px"
   ]
  },
  {
   "cell_type": "code",
   "execution_count": 4,
   "id": "d6ae78d0-e140-45e3-a47b-de9c0bb35333",
   "metadata": {},
   "outputs": [],
   "source": [
    "sales = pd.read_csv(\"../DataScienceDataSets/sales_all.csv\")"
   ]
  },
  {
   "cell_type": "markdown",
   "id": "e8562717-79a7-47c0-adf4-6b9d043224a4",
   "metadata": {},
   "source": [
    "Sie bereits eine kleine explorative Datenanalyse in der Vorschau gesehen. Diese ist äußerst wichtig um relevante Features zu extrahieren. Lassen sie sich mit sales.head() die ersten Zeilen ausgeben und entscheiden Sie dann mit sales.loc oder sales.iloc welche Features Sie übernehmen wollen und was Ihr target ist"
   ]
  },
  {
   "cell_type": "code",
   "execution_count": null,
   "id": "c1ea0d31-abd8-496d-8354-e1e118a73142",
   "metadata": {},
   "outputs": [],
   "source": []
  },
  {
   "cell_type": "code",
   "execution_count": 5,
   "id": "90de82e9-7f43-4086-a4c2-6388946ccb3d",
   "metadata": {},
   "outputs": [
    {
     "data": {
      "text/html": [
       "<div>\n",
       "<style scoped>\n",
       "    .dataframe tbody tr th:only-of-type {\n",
       "        vertical-align: middle;\n",
       "    }\n",
       "\n",
       "    .dataframe tbody tr th {\n",
       "        vertical-align: top;\n",
       "    }\n",
       "\n",
       "    .dataframe thead th {\n",
       "        text-align: right;\n",
       "    }\n",
       "</style>\n",
       "<table border=\"1\" class=\"dataframe\">\n",
       "  <thead>\n",
       "    <tr style=\"text-align: right;\">\n",
       "      <th></th>\n",
       "      <th>date</th>\n",
       "      <th>WeekdayNo</th>\n",
       "      <th>Weekday</th>\n",
       "      <th>HolidayFlag</th>\n",
       "      <th>SchoolHolidayFlag</th>\n",
       "      <th>Sales</th>\n",
       "    </tr>\n",
       "  </thead>\n",
       "  <tbody>\n",
       "    <tr>\n",
       "      <th>0</th>\n",
       "      <td>2012-01-01</td>\n",
       "      <td>6</td>\n",
       "      <td>Sun</td>\n",
       "      <td>True</td>\n",
       "      <td>True</td>\n",
       "      <td>117.0</td>\n",
       "    </tr>\n",
       "    <tr>\n",
       "      <th>1</th>\n",
       "      <td>2012-01-02</td>\n",
       "      <td>0</td>\n",
       "      <td>Mon</td>\n",
       "      <td>False</td>\n",
       "      <td>True</td>\n",
       "      <td>106.0</td>\n",
       "    </tr>\n",
       "    <tr>\n",
       "      <th>2</th>\n",
       "      <td>2012-01-03</td>\n",
       "      <td>1</td>\n",
       "      <td>Tue</td>\n",
       "      <td>False</td>\n",
       "      <td>True</td>\n",
       "      <td>82.0</td>\n",
       "    </tr>\n",
       "    <tr>\n",
       "      <th>3</th>\n",
       "      <td>2012-01-04</td>\n",
       "      <td>2</td>\n",
       "      <td>Wed</td>\n",
       "      <td>False</td>\n",
       "      <td>True</td>\n",
       "      <td>70.0</td>\n",
       "    </tr>\n",
       "    <tr>\n",
       "      <th>4</th>\n",
       "      <td>2012-01-05</td>\n",
       "      <td>3</td>\n",
       "      <td>Thur</td>\n",
       "      <td>False</td>\n",
       "      <td>True</td>\n",
       "      <td>84.0</td>\n",
       "    </tr>\n",
       "  </tbody>\n",
       "</table>\n",
       "</div>"
      ],
      "text/plain": [
       "         date  WeekdayNo Weekday  HolidayFlag  SchoolHolidayFlag  Sales\n",
       "0  2012-01-01          6     Sun         True               True  117.0\n",
       "1  2012-01-02          0     Mon        False               True  106.0\n",
       "2  2012-01-03          1     Tue        False               True   82.0\n",
       "3  2012-01-04          2     Wed        False               True   70.0\n",
       "4  2012-01-05          3    Thur        False               True   84.0"
      ]
     },
     "execution_count": 5,
     "metadata": {},
     "output_type": "execute_result"
    }
   ],
   "source": [
    "sales.head()"
   ]
  },
  {
   "cell_type": "code",
   "execution_count": 7,
   "id": "69056b65-4f31-4310-bc0d-32ebbb99eafd",
   "metadata": {},
   "outputs": [],
   "source": [
    "X= sales.iloc[:,1:-1]\n",
    "y = sales.Sales"
   ]
  },
  {
   "cell_type": "markdown",
   "id": "22730d10-0ebb-4b8d-8194-5efd508212ea",
   "metadata": {},
   "source": [
    "Da eine Regression eine Funktion aufstellt um Werte vorhersagen zu können, müssen alle kategorischen Features zu numerischen Features umgewandelt werden. Dies geht durch sogenanntes One-Hot-Encoding. Dies geht in pandas mit der Funktion pd.get_dummies(). Als Input müssen Sie lediglich Ihren Featureraum X angeben."
   ]
  },
  {
   "cell_type": "code",
   "execution_count": 8,
   "id": "fa2086e2-e151-4263-ac6b-83fdbcd117de",
   "metadata": {},
   "outputs": [],
   "source": [
    "encoded= pd.get_dummies(X)"
   ]
  },
  {
   "cell_type": "code",
   "execution_count": 9,
   "id": "65748f89-9123-4930-a2bb-463fe5e8bd3a",
   "metadata": {},
   "outputs": [],
   "source": [
    "X = encoded"
   ]
  },
  {
   "cell_type": "markdown",
   "id": "d3019d34-21f3-434a-9027-da606ba34c95",
   "metadata": {},
   "source": [
    "Um die Güte des Modells evaluieren zu können, machen wir zuvor einen Train-/Test split. Dieser teilt die Daten in verschiedene Partitionen auf. Die größte Partition wird dann für das Training benutzt und eine eher kleine Menge zum testen des Modells. Dies sieht wie folgt aus:"
   ]
  },
  {
   "cell_type": "code",
   "execution_count": 10,
   "id": "b9f20fdb-c65b-4aa3-8db5-ff00dce80cd9",
   "metadata": {},
   "outputs": [],
   "source": [
    "from sklearn.model_selection import train_test_split\n",
    "X_train, X_test, y_train, y_test = train_test_split(X,y, test_size=0.2)"
   ]
  },
  {
   "cell_type": "code",
   "execution_count": 11,
   "id": "aed57157-ccc1-4e7f-b80f-0ac4ce1cfda6",
   "metadata": {},
   "outputs": [
    {
     "name": "stderr",
     "output_type": "stream",
     "text": [
      "/Users/kaslibekir/ENTER/lib/python3.11/site-packages/sklearn/utils/validation.py:767: FutureWarning: is_sparse is deprecated and will be removed in a future version. Check `isinstance(dtype, pd.SparseDtype)` instead.\n",
      "  if not hasattr(array, \"sparse\") and array.dtypes.apply(is_sparse).any():\n",
      "/Users/kaslibekir/ENTER/lib/python3.11/site-packages/sklearn/utils/validation.py:605: FutureWarning: is_sparse is deprecated and will be removed in a future version. Check `isinstance(dtype, pd.SparseDtype)` instead.\n",
      "  if is_sparse(pd_dtype):\n",
      "/Users/kaslibekir/ENTER/lib/python3.11/site-packages/sklearn/utils/validation.py:614: FutureWarning: is_sparse is deprecated and will be removed in a future version. Check `isinstance(dtype, pd.SparseDtype)` instead.\n",
      "  if is_sparse(pd_dtype) or not is_extension_array_dtype(pd_dtype):\n",
      "/Users/kaslibekir/ENTER/lib/python3.11/site-packages/sklearn/utils/validation.py:605: FutureWarning: is_sparse is deprecated and will be removed in a future version. Check `isinstance(dtype, pd.SparseDtype)` instead.\n",
      "  if is_sparse(pd_dtype):\n",
      "/Users/kaslibekir/ENTER/lib/python3.11/site-packages/sklearn/utils/validation.py:614: FutureWarning: is_sparse is deprecated and will be removed in a future version. Check `isinstance(dtype, pd.SparseDtype)` instead.\n",
      "  if is_sparse(pd_dtype) or not is_extension_array_dtype(pd_dtype):\n",
      "/Users/kaslibekir/ENTER/lib/python3.11/site-packages/sklearn/utils/validation.py:767: FutureWarning: is_sparse is deprecated and will be removed in a future version. Check `isinstance(dtype, pd.SparseDtype)` instead.\n",
      "  if not hasattr(array, \"sparse\") and array.dtypes.apply(is_sparse).any():\n",
      "/Users/kaslibekir/ENTER/lib/python3.11/site-packages/sklearn/utils/validation.py:605: FutureWarning: is_sparse is deprecated and will be removed in a future version. Check `isinstance(dtype, pd.SparseDtype)` instead.\n",
      "  if is_sparse(pd_dtype):\n",
      "/Users/kaslibekir/ENTER/lib/python3.11/site-packages/sklearn/utils/validation.py:614: FutureWarning: is_sparse is deprecated and will be removed in a future version. Check `isinstance(dtype, pd.SparseDtype)` instead.\n",
      "  if is_sparse(pd_dtype) or not is_extension_array_dtype(pd_dtype):\n",
      "/Users/kaslibekir/ENTER/lib/python3.11/site-packages/sklearn/utils/validation.py:605: FutureWarning: is_sparse is deprecated and will be removed in a future version. Check `isinstance(dtype, pd.SparseDtype)` instead.\n",
      "  if is_sparse(pd_dtype):\n",
      "/Users/kaslibekir/ENTER/lib/python3.11/site-packages/sklearn/utils/validation.py:614: FutureWarning: is_sparse is deprecated and will be removed in a future version. Check `isinstance(dtype, pd.SparseDtype)` instead.\n",
      "  if is_sparse(pd_dtype) or not is_extension_array_dtype(pd_dtype):\n"
     ]
    },
    {
     "data": {
      "text/plain": [
       "0.9489536759678568"
      ]
     },
     "execution_count": 11,
     "metadata": {},
     "output_type": "execute_result"
    }
   ],
   "source": [
    "# imports\n",
    "from sklearn.linear_model import LinearRegression\n",
    "lm = LinearRegression()\n",
    "lm.fit(X_train, y_train)\n",
    "\n",
    "lm.score(X_test, y_test)"
   ]
  },
  {
   "cell_type": "code",
   "execution_count": 12,
   "id": "68695d2f-15a7-4b92-a28a-414c1c102dc9",
   "metadata": {},
   "outputs": [
    {
     "name": "stderr",
     "output_type": "stream",
     "text": [
      "/Users/kaslibekir/ENTER/lib/python3.11/site-packages/sklearn/utils/validation.py:767: FutureWarning: is_sparse is deprecated and will be removed in a future version. Check `isinstance(dtype, pd.SparseDtype)` instead.\n",
      "  if not hasattr(array, \"sparse\") and array.dtypes.apply(is_sparse).any():\n",
      "/Users/kaslibekir/ENTER/lib/python3.11/site-packages/sklearn/utils/validation.py:605: FutureWarning: is_sparse is deprecated and will be removed in a future version. Check `isinstance(dtype, pd.SparseDtype)` instead.\n",
      "  if is_sparse(pd_dtype):\n",
      "/Users/kaslibekir/ENTER/lib/python3.11/site-packages/sklearn/utils/validation.py:614: FutureWarning: is_sparse is deprecated and will be removed in a future version. Check `isinstance(dtype, pd.SparseDtype)` instead.\n",
      "  if is_sparse(pd_dtype) or not is_extension_array_dtype(pd_dtype):\n"
     ]
    },
    {
     "data": {
      "text/plain": [
       "array([ 71.5390625, 100.75     ,  88.53125  ,  80.5703125, 107.0078125,\n",
       "       108.7109375,  61.96875  , 108.7109375, 108.7109375, 100.109375 ,\n",
       "        85.9453125,  79.5      , 100.109375 ,  93.90625  ,  69.9296875,\n",
       "        79.5      , 108.7109375,  79.5      ,  69.9296875,  69.9296875,\n",
       "        69.9296875, 114.96875  ,  79.5      , 114.96875  ,  79.5      ,\n",
       "        71.5390625,  93.90625  ,  79.5      , 108.7109375,  69.9296875,\n",
       "       108.7109375, 107.0078125,  93.90625  ,  69.9296875, 114.96875  ,\n",
       "        79.5      , 108.7109375,  80.5703125, 100.109375 ,  93.90625  ,\n",
       "       100.75     ,  69.9296875,  88.53125  ,  79.5      , 108.1875   ,\n",
       "        69.9296875,  93.90625  ,  93.90625  , 108.7109375, 107.0078125,\n",
       "        69.9296875,  93.90625  ,  79.5      ,  93.90625  ,  85.9453125,\n",
       "        79.5      , 107.0078125,  88.53125  , 107.0078125, 108.7109375,\n",
       "        88.53125  ,  85.8203125,  79.5      ,  69.9296875,  79.5      ,\n",
       "       100.109375 ,  80.5703125, 108.7109375,  88.53125  , 100.109375 ,\n",
       "        79.5      , 108.7109375,  61.96875  , 108.7109375,  88.53125  ,\n",
       "        79.5      , 114.96875  ,  69.9296875,  88.53125  ,  79.5      ,\n",
       "       107.0078125,  88.53125  ,  69.9296875, 114.96875  ,  88.53125  ,\n",
       "        69.9296875,  92.1484375,  61.96875  , 108.7109375,  93.90625  ,\n",
       "        79.5      ,  69.9296875,  80.5703125, 100.109375 , 108.7109375,\n",
       "       114.96875  ,  93.90625  , 114.96875  , 100.109375 , 100.109375 ,\n",
       "        88.53125  , 100.109375 , 108.7109375,  61.96875  , 100.109375 ,\n",
       "        93.90625  ,  69.9296875,  79.5      ,  71.5390625, 100.109375 ,\n",
       "        79.5      ,  69.9296875, 108.7109375, 100.109375 , 108.7109375,\n",
       "        88.53125  ,  79.5      , 100.109375 ,  69.9296875, 121.2890625,\n",
       "        93.90625  , 100.109375 , 108.7109375, 100.109375 ,  93.90625  ,\n",
       "       100.75     ,  69.9296875, 114.96875  , 100.109375 , 114.96875  ,\n",
       "        79.5      ,  69.9296875, 108.7109375, 108.7109375,  79.5      ,\n",
       "        79.5      , 107.0078125,  93.90625  ,  69.9296875, 108.7109375,\n",
       "        88.53125  ,  85.9453125,  69.9296875,  71.5390625,  85.9453125,\n",
       "        69.9296875,  92.1484375,  88.53125  ,  79.5      ,  88.53125  ,\n",
       "       100.2265625,  69.9296875, 100.109375 ,  79.5      , 114.96875  ,\n",
       "        88.53125  ,  93.90625  ,  85.9453125,  69.9296875,  88.53125  ,\n",
       "       107.0078125, 100.109375 , 106.4296875, 114.96875  , 114.96875  ,\n",
       "        69.9296875, 100.75     ,  69.9296875, 106.4296875,  93.90625  ,\n",
       "       100.109375 ,  71.5390625,  92.1484375,  69.9296875,  88.53125  ,\n",
       "       108.7109375,  93.90625  , 108.7109375, 107.0078125, 108.7109375,\n",
       "        88.53125  , 108.7109375, 107.0078125,  85.9453125, 102.8125   ,\n",
       "        88.53125  ,  93.90625  ,  93.90625  , 108.7109375,  85.9453125,\n",
       "        79.5      ,  85.9453125,  69.9296875, 108.7109375, 114.96875  ,\n",
       "       114.96875  ,  93.90625  ,  79.5      ,  71.5390625,  93.90625  ,\n",
       "        80.5703125, 100.109375 ,  69.9296875,  79.5      , 108.7109375,\n",
       "        61.96875  ,  79.5      , 106.4296875, 108.7109375,  88.53125  ,\n",
       "       108.7109375,  88.53125  ,  88.53125  ,  88.53125  , 100.109375 ,\n",
       "        79.5      , 114.96875  ,  93.90625  ,  69.9296875, 114.96875  ,\n",
       "        80.5703125,  71.5390625, 114.96875  ,  79.5      , 108.7109375,\n",
       "        61.96875  , 108.7109375,  69.9296875, 107.0078125,  71.5390625,\n",
       "       108.7109375,  88.53125  ,  93.90625  , 100.109375 , 106.4296875,\n",
       "       108.7109375,  85.9453125,  88.53125  ,  80.5703125,  69.9296875,\n",
       "        85.9453125,  88.53125  ,  88.53125  , 108.7109375,  88.53125  ,\n",
       "        69.9296875,  79.5      ,  88.53125  ,  69.9296875, 108.7109375,\n",
       "        93.90625  ,  88.53125  ,  85.9453125,  79.5      ,  93.90625  ,\n",
       "        69.9296875,  61.96875  ,  69.9296875,  79.5      ,  88.53125  ,\n",
       "        93.90625  , 114.96875  ,  93.90625  ,  71.5390625, 114.96875  ,\n",
       "        69.9296875,  69.9296875, 114.96875  ,  92.1484375, 108.7109375,\n",
       "        88.53125  ,  69.9296875, 108.7109375, 100.109375 ,  93.90625  ,\n",
       "        79.5      , 114.96875  ,  79.5      ,  93.90625  ,  79.5      ,\n",
       "       107.0078125,  93.90625  , 100.109375 ,  79.5      ,  79.5      ,\n",
       "        88.53125  , 100.109375 ,  93.90625  , 100.109375 ,  93.90625  ,\n",
       "        93.90625  ,  80.5703125, 100.109375 , 114.96875  ,  80.5703125,\n",
       "        93.90625  ,  69.9296875,  88.53125  ,  69.9296875, 114.96875  ,\n",
       "       114.96875  ,  88.53125  , 108.7109375, 100.109375 ,  71.5390625,\n",
       "       100.109375 , 108.7109375,  94.8515625, 114.96875  , 107.0078125,\n",
       "        69.9296875,  71.5390625, 108.7109375, 108.7109375,  79.5      ,\n",
       "        79.5      , 114.96875  ,  69.9296875,  69.9296875, 114.96875  ,\n",
       "        80.5703125, 100.75     ,  88.53125  , 114.96875  , 108.7109375,\n",
       "       100.109375 ,  80.5703125,  79.5      ,  92.1484375, 114.96875  ,\n",
       "        79.5      , 100.75     , 114.96875  , 107.0078125,  69.9296875,\n",
       "        71.5390625,  88.53125  ,  88.53125  , 100.109375 , 108.7109375,\n",
       "        92.1484375, 107.0078125, 108.7109375, 108.7109375, 114.96875  ,\n",
       "        88.53125  , 114.96875  ,  88.53125  , 114.96875  ,  79.5      ,\n",
       "       100.109375 , 100.75     , 114.96875  , 108.7109375, 114.96875  ,\n",
       "        92.1484375, 100.109375 ,  88.53125  , 100.109375 , 129.25     ,\n",
       "        88.53125  ,  69.9296875, 100.75     , 108.7109375, 108.7109375,\n",
       "        88.53125  , 108.7109375,  79.5      ,  88.53125  ,  79.5      ,\n",
       "        88.53125  ,  80.5703125,  93.90625  , 114.96875  ,  88.53125  ,\n",
       "        61.96875  , 114.96875  ,  93.90625  ,  93.90625  , 107.0078125,\n",
       "        93.90625  ,  79.5      , 107.0078125,  88.53125  ,  88.53125  ])"
      ]
     },
     "execution_count": 12,
     "metadata": {},
     "output_type": "execute_result"
    }
   ],
   "source": [
    "lm.predict(X_test)"
   ]
  },
  {
   "cell_type": "code",
   "execution_count": 13,
   "id": "3de1ad6a-6942-4073-96db-87465a14e9c5",
   "metadata": {},
   "outputs": [
    {
     "name": "stderr",
     "output_type": "stream",
     "text": [
      "/Users/kaslibekir/ENTER/lib/python3.11/site-packages/sklearn/utils/validation.py:767: FutureWarning: is_sparse is deprecated and will be removed in a future version. Check `isinstance(dtype, pd.SparseDtype)` instead.\n",
      "  if not hasattr(array, \"sparse\") and array.dtypes.apply(is_sparse).any():\n",
      "/Users/kaslibekir/ENTER/lib/python3.11/site-packages/sklearn/utils/validation.py:605: FutureWarning: is_sparse is deprecated and will be removed in a future version. Check `isinstance(dtype, pd.SparseDtype)` instead.\n",
      "  if is_sparse(pd_dtype):\n",
      "/Users/kaslibekir/ENTER/lib/python3.11/site-packages/sklearn/utils/validation.py:614: FutureWarning: is_sparse is deprecated and will be removed in a future version. Check `isinstance(dtype, pd.SparseDtype)` instead.\n",
      "  if is_sparse(pd_dtype) or not is_extension_array_dtype(pd_dtype):\n",
      "/Users/kaslibekir/ENTER/lib/python3.11/site-packages/sklearn/utils/validation.py:605: FutureWarning: is_sparse is deprecated and will be removed in a future version. Check `isinstance(dtype, pd.SparseDtype)` instead.\n",
      "  if is_sparse(pd_dtype):\n",
      "/Users/kaslibekir/ENTER/lib/python3.11/site-packages/sklearn/utils/validation.py:614: FutureWarning: is_sparse is deprecated and will be removed in a future version. Check `isinstance(dtype, pd.SparseDtype)` instead.\n",
      "  if is_sparse(pd_dtype) or not is_extension_array_dtype(pd_dtype):\n"
     ]
    }
   ],
   "source": [
    "from sklearn.metrics import mean_squared_error\n",
    "mse = mean_squared_error(lm.predict(X_test),y_test)"
   ]
  },
  {
   "cell_type": "code",
   "execution_count": 14,
   "id": "e1aa5816-3591-4f42-ae55-4ce570b3f234",
   "metadata": {},
   "outputs": [
    {
     "data": {
      "text/plain": [
       "12.06858940619927"
      ]
     },
     "execution_count": 14,
     "metadata": {},
     "output_type": "execute_result"
    }
   ],
   "source": [
    "mse"
   ]
  },
  {
   "cell_type": "code",
   "execution_count": null,
   "id": "fae6f887-b624-4fbe-af08-1dc65fbb9169",
   "metadata": {},
   "outputs": [],
   "source": []
  }
 ],
 "metadata": {
  "kernelspec": {
   "display_name": "Python 3 (ipykernel)",
   "language": "python",
   "name": "python3"
  },
  "language_info": {
   "codemirror_mode": {
    "name": "ipython",
    "version": 3
   },
   "file_extension": ".py",
   "mimetype": "text/x-python",
   "name": "python",
   "nbconvert_exporter": "python",
   "pygments_lexer": "ipython3",
   "version": "3.11.5"
  }
 },
 "nbformat": 4,
 "nbformat_minor": 5
}
