{
 "cells": [
  {
   "cell_type": "code",
   "execution_count": 34,
   "id": "cdbbf2e3-b510-44a9-bbab-93b7bf585cec",
   "metadata": {},
   "outputs": [],
   "source": [
    "import pandas as pd\n",
    "import numpy as np"
   ]
  },
  {
   "cell_type": "markdown",
   "id": "e42917a5-2754-41a5-a08f-729a9927efd5",
   "metadata": {},
   "source": [
    "# Erstellen Sie eine Liste mit fortlaufenden Nummern von 1-5. Fügen Sie dieser Liste eine weitere Nummer hinzu. Lassen Sie sich min, mean und max ausgeben (Tipp: Muss vorher konvertiert werden)"
   ]
  },
  {
   "cell_type": "code",
   "execution_count": 35,
   "id": "babe6a76-6777-413c-9c84-f1f0b11b87b2",
   "metadata": {},
   "outputs": [],
   "source": [
    "new_list = [1,2,3,4,5]"
   ]
  },
  {
   "cell_type": "code",
   "execution_count": 36,
   "id": "281e8f36-1524-4b84-ab15-7611621ba6bf",
   "metadata": {},
   "outputs": [],
   "source": [
    "new_list.append(6)"
   ]
  },
  {
   "cell_type": "code",
   "execution_count": 37,
   "id": "6153f54c-accc-4172-8a52-8835708df40c",
   "metadata": {},
   "outputs": [
    {
     "data": {
      "text/plain": [
       "[1, 2, 3, 4, 5, 6]"
      ]
     },
     "execution_count": 37,
     "metadata": {},
     "output_type": "execute_result"
    }
   ],
   "source": [
    "new_list"
   ]
  },
  {
   "cell_type": "code",
   "execution_count": 38,
   "id": "ee490644-8414-42ba-a97c-31c243e3bdaa",
   "metadata": {},
   "outputs": [
    {
     "name": "stdout",
     "output_type": "stream",
     "text": [
      "1\n"
     ]
    }
   ],
   "source": [
    "print(min(new_list))"
   ]
  },
  {
   "cell_type": "code",
   "execution_count": 39,
   "id": "b9e3ed07-5b6f-414f-a3f3-c61a80853929",
   "metadata": {},
   "outputs": [
    {
     "name": "stdout",
     "output_type": "stream",
     "text": [
      "6\n"
     ]
    }
   ],
   "source": [
    "print(max(new_list))"
   ]
  },
  {
   "cell_type": "code",
   "execution_count": 40,
   "id": "bd06ac96-53c8-4ba7-832f-77b12a3356bd",
   "metadata": {},
   "outputs": [
    {
     "name": "stdout",
     "output_type": "stream",
     "text": [
      "3.5\n"
     ]
    }
   ],
   "source": [
    "print(np.mean(new_list))"
   ]
  },
  {
   "cell_type": "markdown",
   "id": "085856cf-fa89-4958-8647-0c52a5b848c2",
   "metadata": {},
   "source": [
    "# Erstellen Sie nun ebenfalls eine Liste mit Namen von Früchten. Die Liste sollte die gleiche Länge haben wie Ihre vorherige Liste."
   ]
  },
  {
   "cell_type": "code",
   "execution_count": 41,
   "id": "a4abd744-81a4-44c2-88d5-74cb99a70d64",
   "metadata": {},
   "outputs": [],
   "source": [
    "fruits = [\"elma\",\"kiraz\",\"portakal\",\"muz\",\"cilek\",\"visne\"]"
   ]
  },
  {
   "cell_type": "code",
   "execution_count": 42,
   "id": "8fc4a309-8474-405b-81ee-073094f02f3f",
   "metadata": {},
   "outputs": [
    {
     "data": {
      "text/plain": [
       "6"
      ]
     },
     "execution_count": 42,
     "metadata": {},
     "output_type": "execute_result"
    }
   ],
   "source": [
    "len(fruits)"
   ]
  },
  {
   "cell_type": "markdown",
   "id": "6ba659f9-3bd5-4f6f-81c0-9353cee887a2",
   "metadata": {},
   "source": [
    "# Weisen Sie die Liste einem Dictionary mit dem Namen Fruits zu."
   ]
  },
  {
   "cell_type": "code",
   "execution_count": 43,
   "id": "165285ec-f431-41d6-ba92-ebafe95228eb",
   "metadata": {},
   "outputs": [],
   "source": [
    "\n",
    "fruitdict={\n",
    "    \"fruitid\" : new_list,\n",
    "    \"fruitnames\" : fruits\n",
    "}\n"
   ]
  },
  {
   "cell_type": "markdown",
   "id": "ca7f7334-a6f6-4e5a-88e9-28c36fd32e84",
   "metadata": {},
   "source": [
    "# Erstellen Sie aus dem Dictionary ein pandas-DataFrame und lassen Sie sich die ersten zwei Zeilen mit dem .head()-Befehl ausgeben."
   ]
  },
  {
   "cell_type": "code",
   "execution_count": 44,
   "id": "fa94e0b6-800a-4235-8f95-34ca3ec11d5d",
   "metadata": {},
   "outputs": [],
   "source": [
    "df = pd.DataFrame(fruitdict)"
   ]
  },
  {
   "cell_type": "code",
   "execution_count": 45,
   "id": "86d3979f-dabe-4514-9f14-fa55e3299173",
   "metadata": {},
   "outputs": [
    {
     "data": {
      "text/html": [
       "<div>\n",
       "<style scoped>\n",
       "    .dataframe tbody tr th:only-of-type {\n",
       "        vertical-align: middle;\n",
       "    }\n",
       "\n",
       "    .dataframe tbody tr th {\n",
       "        vertical-align: top;\n",
       "    }\n",
       "\n",
       "    .dataframe thead th {\n",
       "        text-align: right;\n",
       "    }\n",
       "</style>\n",
       "<table border=\"1\" class=\"dataframe\">\n",
       "  <thead>\n",
       "    <tr style=\"text-align: right;\">\n",
       "      <th></th>\n",
       "      <th>fruitid</th>\n",
       "      <th>fruitnames</th>\n",
       "    </tr>\n",
       "  </thead>\n",
       "  <tbody>\n",
       "    <tr>\n",
       "      <th>0</th>\n",
       "      <td>1</td>\n",
       "      <td>elma</td>\n",
       "    </tr>\n",
       "    <tr>\n",
       "      <th>1</th>\n",
       "      <td>2</td>\n",
       "      <td>kiraz</td>\n",
       "    </tr>\n",
       "  </tbody>\n",
       "</table>\n",
       "</div>"
      ],
      "text/plain": [
       "   fruitid fruitnames\n",
       "0        1       elma\n",
       "1        2      kiraz"
      ]
     },
     "execution_count": 45,
     "metadata": {},
     "output_type": "execute_result"
    }
   ],
   "source": [
    "df.head(2)"
   ]
  },
  {
   "cell_type": "markdown",
   "id": "e4a5a956-c0ca-46d8-8e09-8f2bb5e4a62f",
   "metadata": {},
   "source": [
    "# Fügen Sie das unten stehende Dictionary zu Ihrem Dataframe hinzu"
   ]
  },
  {
   "cell_type": "code",
   "execution_count": 46,
   "id": "5f9a0bd2-4532-427e-bffe-a6603d661da6",
   "metadata": {},
   "outputs": [],
   "source": [
    "newid=[7]\n",
    "newname=[\"pineapple\"]"
   ]
  },
  {
   "cell_type": "code",
   "execution_count": 47,
   "id": "f208250b-246e-4202-8bc4-ae6f13771f4c",
   "metadata": {},
   "outputs": [],
   "source": [
    "fruits2 = {\n",
    "    \"fruitid\" : newid,\n",
    "    \"fruitnames\" : newname\n",
    "}"
   ]
  },
  {
   "cell_type": "code",
   "execution_count": 48,
   "id": "9964e440-5fd6-4ce6-bb98-fe818c251bc2",
   "metadata": {},
   "outputs": [],
   "source": [
    "df2 = pd.DataFrame(fruits2)"
   ]
  },
  {
   "cell_type": "code",
   "execution_count": 49,
   "id": "c935957b-2065-4bac-86cb-ff9b305ef2ac",
   "metadata": {},
   "outputs": [],
   "source": [
    "df = pd.concat([df2,df],ignore_index = False)"
   ]
  },
  {
   "cell_type": "code",
   "execution_count": 50,
   "id": "c8dec053-f24c-455b-906d-1ae5286ae777",
   "metadata": {},
   "outputs": [
    {
     "data": {
      "text/html": [
       "<div>\n",
       "<style scoped>\n",
       "    .dataframe tbody tr th:only-of-type {\n",
       "        vertical-align: middle;\n",
       "    }\n",
       "\n",
       "    .dataframe tbody tr th {\n",
       "        vertical-align: top;\n",
       "    }\n",
       "\n",
       "    .dataframe thead th {\n",
       "        text-align: right;\n",
       "    }\n",
       "</style>\n",
       "<table border=\"1\" class=\"dataframe\">\n",
       "  <thead>\n",
       "    <tr style=\"text-align: right;\">\n",
       "      <th></th>\n",
       "      <th>fruitid</th>\n",
       "      <th>fruitnames</th>\n",
       "    </tr>\n",
       "  </thead>\n",
       "  <tbody>\n",
       "    <tr>\n",
       "      <th>0</th>\n",
       "      <td>7</td>\n",
       "      <td>pineapple</td>\n",
       "    </tr>\n",
       "    <tr>\n",
       "      <th>0</th>\n",
       "      <td>1</td>\n",
       "      <td>elma</td>\n",
       "    </tr>\n",
       "    <tr>\n",
       "      <th>1</th>\n",
       "      <td>2</td>\n",
       "      <td>kiraz</td>\n",
       "    </tr>\n",
       "    <tr>\n",
       "      <th>2</th>\n",
       "      <td>3</td>\n",
       "      <td>portakal</td>\n",
       "    </tr>\n",
       "    <tr>\n",
       "      <th>3</th>\n",
       "      <td>4</td>\n",
       "      <td>muz</td>\n",
       "    </tr>\n",
       "    <tr>\n",
       "      <th>4</th>\n",
       "      <td>5</td>\n",
       "      <td>cilek</td>\n",
       "    </tr>\n",
       "    <tr>\n",
       "      <th>5</th>\n",
       "      <td>6</td>\n",
       "      <td>visne</td>\n",
       "    </tr>\n",
       "  </tbody>\n",
       "</table>\n",
       "</div>"
      ],
      "text/plain": [
       "   fruitid fruitnames\n",
       "0        7  pineapple\n",
       "0        1       elma\n",
       "1        2      kiraz\n",
       "2        3   portakal\n",
       "3        4        muz\n",
       "4        5      cilek\n",
       "5        6      visne"
      ]
     },
     "execution_count": 50,
     "metadata": {},
     "output_type": "execute_result"
    }
   ],
   "source": [
    "df"
   ]
  },
  {
   "cell_type": "markdown",
   "id": "8e992387-459d-4af6-bf59-98c91a77cf61",
   "metadata": {},
   "source": [
    "# Geben Sie die zweite und dritte Zeile mit dem .iloc()-Befehl aus."
   ]
  },
  {
   "cell_type": "code",
   "execution_count": 51,
   "id": "efe0f0f5-efe1-4ac3-a629-c65332d47a0f",
   "metadata": {},
   "outputs": [
    {
     "data": {
      "text/html": [
       "<div>\n",
       "<style scoped>\n",
       "    .dataframe tbody tr th:only-of-type {\n",
       "        vertical-align: middle;\n",
       "    }\n",
       "\n",
       "    .dataframe tbody tr th {\n",
       "        vertical-align: top;\n",
       "    }\n",
       "\n",
       "    .dataframe thead th {\n",
       "        text-align: right;\n",
       "    }\n",
       "</style>\n",
       "<table border=\"1\" class=\"dataframe\">\n",
       "  <thead>\n",
       "    <tr style=\"text-align: right;\">\n",
       "      <th></th>\n",
       "      <th>fruitid</th>\n",
       "      <th>fruitnames</th>\n",
       "    </tr>\n",
       "  </thead>\n",
       "  <tbody>\n",
       "    <tr>\n",
       "      <th>0</th>\n",
       "      <td>1</td>\n",
       "      <td>elma</td>\n",
       "    </tr>\n",
       "    <tr>\n",
       "      <th>1</th>\n",
       "      <td>2</td>\n",
       "      <td>kiraz</td>\n",
       "    </tr>\n",
       "  </tbody>\n",
       "</table>\n",
       "</div>"
      ],
      "text/plain": [
       "   fruitid fruitnames\n",
       "0        1       elma\n",
       "1        2      kiraz"
      ]
     },
     "execution_count": 51,
     "metadata": {},
     "output_type": "execute_result"
    }
   ],
   "source": [
    "df.iloc[1:3]"
   ]
  },
  {
   "cell_type": "markdown",
   "id": "7fcc7cee-e83d-48a1-9a4e-4f0b8ad692b9",
   "metadata": {},
   "source": [
    "# Fügen Sie eine weiter Spalte mit der Bezeichnung \"Kategorie\" zu dem DataFrame hinzu und vergeben Sie für alle bisherigen Zeilen eine passende Kategorie."
   ]
  },
  {
   "cell_type": "code",
   "execution_count": 52,
   "id": "1a3bacee-4611-4321-98e7-66d28f86b444",
   "metadata": {},
   "outputs": [],
   "source": [
    "df[\"Kategorie\"] = \"Obst\""
   ]
  },
  {
   "cell_type": "code",
   "execution_count": 53,
   "id": "f276cc18-6314-44b2-8bbc-dbbe4698bae9",
   "metadata": {},
   "outputs": [
    {
     "data": {
      "text/html": [
       "<div>\n",
       "<style scoped>\n",
       "    .dataframe tbody tr th:only-of-type {\n",
       "        vertical-align: middle;\n",
       "    }\n",
       "\n",
       "    .dataframe tbody tr th {\n",
       "        vertical-align: top;\n",
       "    }\n",
       "\n",
       "    .dataframe thead th {\n",
       "        text-align: right;\n",
       "    }\n",
       "</style>\n",
       "<table border=\"1\" class=\"dataframe\">\n",
       "  <thead>\n",
       "    <tr style=\"text-align: right;\">\n",
       "      <th></th>\n",
       "      <th>fruitid</th>\n",
       "      <th>fruitnames</th>\n",
       "      <th>Kategorie</th>\n",
       "    </tr>\n",
       "  </thead>\n",
       "  <tbody>\n",
       "    <tr>\n",
       "      <th>0</th>\n",
       "      <td>7</td>\n",
       "      <td>pineapple</td>\n",
       "      <td>Obst</td>\n",
       "    </tr>\n",
       "    <tr>\n",
       "      <th>0</th>\n",
       "      <td>1</td>\n",
       "      <td>elma</td>\n",
       "      <td>Obst</td>\n",
       "    </tr>\n",
       "    <tr>\n",
       "      <th>1</th>\n",
       "      <td>2</td>\n",
       "      <td>kiraz</td>\n",
       "      <td>Obst</td>\n",
       "    </tr>\n",
       "    <tr>\n",
       "      <th>2</th>\n",
       "      <td>3</td>\n",
       "      <td>portakal</td>\n",
       "      <td>Obst</td>\n",
       "    </tr>\n",
       "    <tr>\n",
       "      <th>3</th>\n",
       "      <td>4</td>\n",
       "      <td>muz</td>\n",
       "      <td>Obst</td>\n",
       "    </tr>\n",
       "    <tr>\n",
       "      <th>4</th>\n",
       "      <td>5</td>\n",
       "      <td>cilek</td>\n",
       "      <td>Obst</td>\n",
       "    </tr>\n",
       "    <tr>\n",
       "      <th>5</th>\n",
       "      <td>6</td>\n",
       "      <td>visne</td>\n",
       "      <td>Obst</td>\n",
       "    </tr>\n",
       "  </tbody>\n",
       "</table>\n",
       "</div>"
      ],
      "text/plain": [
       "   fruitid fruitnames Kategorie\n",
       "0        7  pineapple      Obst\n",
       "0        1       elma      Obst\n",
       "1        2      kiraz      Obst\n",
       "2        3   portakal      Obst\n",
       "3        4        muz      Obst\n",
       "4        5      cilek      Obst\n",
       "5        6      visne      Obst"
      ]
     },
     "execution_count": 53,
     "metadata": {},
     "output_type": "execute_result"
    }
   ],
   "source": [
    "df"
   ]
  },
  {
   "cell_type": "markdown",
   "id": "c11c3e2d-3688-4a60-9672-a9cbc824323d",
   "metadata": {},
   "source": [
    "# Überprüfen Sie Ihre Eingabe, indem Sie sich mit dem .loc()-Befehl die Spalte Kategorie für alle Zeilen ausgeben lassen"
   ]
  },
  {
   "cell_type": "code",
   "execution_count": 56,
   "id": "849989fa-e702-4640-b905-a510287e0d1d",
   "metadata": {},
   "outputs": [
    {
     "data": {
      "text/html": [
       "<div>\n",
       "<style scoped>\n",
       "    .dataframe tbody tr th:only-of-type {\n",
       "        vertical-align: middle;\n",
       "    }\n",
       "\n",
       "    .dataframe tbody tr th {\n",
       "        vertical-align: top;\n",
       "    }\n",
       "\n",
       "    .dataframe thead th {\n",
       "        text-align: right;\n",
       "    }\n",
       "</style>\n",
       "<table border=\"1\" class=\"dataframe\">\n",
       "  <thead>\n",
       "    <tr style=\"text-align: right;\">\n",
       "      <th></th>\n",
       "      <th>Kategorie</th>\n",
       "    </tr>\n",
       "  </thead>\n",
       "  <tbody>\n",
       "    <tr>\n",
       "      <th>0</th>\n",
       "      <td>Obst</td>\n",
       "    </tr>\n",
       "    <tr>\n",
       "      <th>0</th>\n",
       "      <td>Obst</td>\n",
       "    </tr>\n",
       "    <tr>\n",
       "      <th>1</th>\n",
       "      <td>Obst</td>\n",
       "    </tr>\n",
       "    <tr>\n",
       "      <th>2</th>\n",
       "      <td>Obst</td>\n",
       "    </tr>\n",
       "    <tr>\n",
       "      <th>3</th>\n",
       "      <td>Obst</td>\n",
       "    </tr>\n",
       "    <tr>\n",
       "      <th>4</th>\n",
       "      <td>Obst</td>\n",
       "    </tr>\n",
       "    <tr>\n",
       "      <th>5</th>\n",
       "      <td>Obst</td>\n",
       "    </tr>\n",
       "  </tbody>\n",
       "</table>\n",
       "</div>"
      ],
      "text/plain": [
       "  Kategorie\n",
       "0      Obst\n",
       "0      Obst\n",
       "1      Obst\n",
       "2      Obst\n",
       "3      Obst\n",
       "4      Obst\n",
       "5      Obst"
      ]
     },
     "execution_count": 56,
     "metadata": {},
     "output_type": "execute_result"
    }
   ],
   "source": [
    "df.loc[:,[\"Kategorie\"]]"
   ]
  },
  {
   "cell_type": "markdown",
   "id": "1ab53d51-ba4f-4a94-b033-acadf953914d",
   "metadata": {},
   "source": [
    "# Wandeln Sie abschließend alle strings von Früchten in Großbustaben um. Benutzen Sie hierfür eine in Python-implementierte Funktion"
   ]
  },
  {
   "cell_type": "code",
   "execution_count": 59,
   "id": "152a404e-b8fd-4753-8f17-722b5ae402b6",
   "metadata": {},
   "outputs": [],
   "source": [
    "df.fruitnames = df.fruitnames.apply(lambda x:x.upper())"
   ]
  },
  {
   "cell_type": "code",
   "execution_count": 60,
   "id": "aec188a1-5aaa-4aee-83c2-ad96ee54703a",
   "metadata": {},
   "outputs": [
    {
     "data": {
      "text/html": [
       "<div>\n",
       "<style scoped>\n",
       "    .dataframe tbody tr th:only-of-type {\n",
       "        vertical-align: middle;\n",
       "    }\n",
       "\n",
       "    .dataframe tbody tr th {\n",
       "        vertical-align: top;\n",
       "    }\n",
       "\n",
       "    .dataframe thead th {\n",
       "        text-align: right;\n",
       "    }\n",
       "</style>\n",
       "<table border=\"1\" class=\"dataframe\">\n",
       "  <thead>\n",
       "    <tr style=\"text-align: right;\">\n",
       "      <th></th>\n",
       "      <th>fruitid</th>\n",
       "      <th>fruitnames</th>\n",
       "      <th>Kategorie</th>\n",
       "    </tr>\n",
       "  </thead>\n",
       "  <tbody>\n",
       "    <tr>\n",
       "      <th>0</th>\n",
       "      <td>7</td>\n",
       "      <td>PINEAPPLE</td>\n",
       "      <td>Obst</td>\n",
       "    </tr>\n",
       "    <tr>\n",
       "      <th>0</th>\n",
       "      <td>1</td>\n",
       "      <td>ELMA</td>\n",
       "      <td>Obst</td>\n",
       "    </tr>\n",
       "    <tr>\n",
       "      <th>1</th>\n",
       "      <td>2</td>\n",
       "      <td>KIRAZ</td>\n",
       "      <td>Obst</td>\n",
       "    </tr>\n",
       "    <tr>\n",
       "      <th>2</th>\n",
       "      <td>3</td>\n",
       "      <td>PORTAKAL</td>\n",
       "      <td>Obst</td>\n",
       "    </tr>\n",
       "    <tr>\n",
       "      <th>3</th>\n",
       "      <td>4</td>\n",
       "      <td>MUZ</td>\n",
       "      <td>Obst</td>\n",
       "    </tr>\n",
       "    <tr>\n",
       "      <th>4</th>\n",
       "      <td>5</td>\n",
       "      <td>CILEK</td>\n",
       "      <td>Obst</td>\n",
       "    </tr>\n",
       "    <tr>\n",
       "      <th>5</th>\n",
       "      <td>6</td>\n",
       "      <td>VISNE</td>\n",
       "      <td>Obst</td>\n",
       "    </tr>\n",
       "  </tbody>\n",
       "</table>\n",
       "</div>"
      ],
      "text/plain": [
       "   fruitid fruitnames Kategorie\n",
       "0        7  PINEAPPLE      Obst\n",
       "0        1       ELMA      Obst\n",
       "1        2      KIRAZ      Obst\n",
       "2        3   PORTAKAL      Obst\n",
       "3        4        MUZ      Obst\n",
       "4        5      CILEK      Obst\n",
       "5        6      VISNE      Obst"
      ]
     },
     "execution_count": 60,
     "metadata": {},
     "output_type": "execute_result"
    }
   ],
   "source": [
    "df"
   ]
  },
  {
   "cell_type": "code",
   "execution_count": null,
   "id": "47469f64-b5eb-4eaa-b4cf-176b5fe94f07",
   "metadata": {},
   "outputs": [],
   "source": []
  }
 ],
 "metadata": {
  "kernelspec": {
   "display_name": "Python 3 (ipykernel)",
   "language": "python",
   "name": "python3"
  },
  "language_info": {
   "codemirror_mode": {
    "name": "ipython",
    "version": 3
   },
   "file_extension": ".py",
   "mimetype": "text/x-python",
   "name": "python",
   "nbconvert_exporter": "python",
   "pygments_lexer": "ipython3",
   "version": "3.11.5"
  }
 },
 "nbformat": 4,
 "nbformat_minor": 5
}
